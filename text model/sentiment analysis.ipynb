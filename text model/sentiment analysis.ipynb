{
 "cells": [
  {
   "cell_type": "markdown",
   "id": "7a82b94e-555f-4616-98fc-c6c1e021a9aa",
   "metadata": {},
   "source": [
    "# link = https://drive.google.com/drive/folders/1_UxBDEDekgHBKg-8mYgdTEIRiYRqw_S6"
   ]
  },
  {
   "cell_type": "code",
   "execution_count": 1,
   "id": "e6766e9a",
   "metadata": {},
   "outputs": [],
   "source": [
    "import numpy as np\n",
    "import pandas as pd"
   ]
  },
  {
   "cell_type": "code",
   "execution_count": 2,
   "id": "a6b7f78e",
   "metadata": {},
   "outputs": [],
   "source": [
    "# Only need the tweets and associated sentiment\n",
    "tweets_df = pd.read_csv(\"C:\\\\Users\\Omar Derb\\\\ipynb\\\\sentiment\\\\tweet-sentiment-extraction\\\\train.csv\")\n",
    "tweets_df = tweets_df[['text', 'sentiment']]\n",
    "\n",
    "test_df = pd.read_csv(\"C:\\\\Users\\Omar Derb\\\\ipynb\\\\sentiment\\\\tweet-sentiment-extraction\\\\test.csv\")\n",
    "test_df = test_df[['text', 'sentiment']]"
   ]
  },
  {
   "cell_type": "code",
   "execution_count": 3,
   "id": "6a4ab37d-8cb2-466e-a177-aceb6181ccb2",
   "metadata": {},
   "outputs": [
    {
     "data": {
      "text/plain": [
       "3534"
      ]
     },
     "execution_count": 3,
     "metadata": {},
     "output_type": "execute_result"
    }
   ],
   "source": [
    "len(test_df)"
   ]
  },
  {
   "cell_type": "code",
   "execution_count": 4,
   "id": "2448065e",
   "metadata": {},
   "outputs": [
    {
     "data": {
      "text/html": [
       "<style type=\"text/css\">\n",
       "#T_8d3b5_row0_col1 {\n",
       "  background-color: #000000;\n",
       "  color: #f1f1f1;\n",
       "}\n",
       "#T_8d3b5_row1_col1 {\n",
       "  background-color: #e6c322;\n",
       "  color: #000000;\n",
       "}\n",
       "#T_8d3b5_row2_col1 {\n",
       "  background-color: #ffffff;\n",
       "  color: #000000;\n",
       "}\n",
       "</style>\n",
       "<table id=\"T_8d3b5\">\n",
       "  <thead>\n",
       "    <tr>\n",
       "      <th class=\"blank level0\" >&nbsp;</th>\n",
       "      <th id=\"T_8d3b5_level0_col0\" class=\"col_heading level0 col0\" >sentiment</th>\n",
       "      <th id=\"T_8d3b5_level0_col1\" class=\"col_heading level0 col1\" >text</th>\n",
       "    </tr>\n",
       "  </thead>\n",
       "  <tbody>\n",
       "    <tr>\n",
       "      <th id=\"T_8d3b5_level0_row0\" class=\"row_heading level0 row0\" >1</th>\n",
       "      <td id=\"T_8d3b5_row0_col0\" class=\"data row0 col0\" >neutral</td>\n",
       "      <td id=\"T_8d3b5_row0_col1\" class=\"data row0 col1\" >11117</td>\n",
       "    </tr>\n",
       "    <tr>\n",
       "      <th id=\"T_8d3b5_level0_row1\" class=\"row_heading level0 row1\" >2</th>\n",
       "      <td id=\"T_8d3b5_row1_col0\" class=\"data row1 col0\" >positive</td>\n",
       "      <td id=\"T_8d3b5_row1_col1\" class=\"data row1 col1\" >8582</td>\n",
       "    </tr>\n",
       "    <tr>\n",
       "      <th id=\"T_8d3b5_level0_row2\" class=\"row_heading level0 row2\" >0</th>\n",
       "      <td id=\"T_8d3b5_row2_col0\" class=\"data row2 col0\" >negative</td>\n",
       "      <td id=\"T_8d3b5_row2_col1\" class=\"data row2 col1\" >7781</td>\n",
       "    </tr>\n",
       "  </tbody>\n",
       "</table>\n"
      ],
      "text/plain": [
       "<pandas.io.formats.style.Styler at 0x29f771ad1d0>"
      ]
     },
     "execution_count": 4,
     "metadata": {},
     "output_type": "execute_result"
    }
   ],
   "source": [
    "temp = tweets_df.groupby('sentiment').count()['text'].reset_index().sort_values(by='text',ascending=False)\n",
    "temp.style.background_gradient(cmap='CMRmap_r')"
   ]
  },
  {
   "cell_type": "code",
   "execution_count": 5,
   "id": "5473fa0b",
   "metadata": {},
   "outputs": [],
   "source": [
    "import matplotlib.pyplot as plt\n",
    "import seaborn as sns"
   ]
  },
  {
   "cell_type": "code",
   "execution_count": 6,
   "id": "c2245c5e",
   "metadata": {},
   "outputs": [
    {
     "data": {
      "text/plain": [
       "<Axes: xlabel='sentiment', ylabel='count'>"
      ]
     },
     "execution_count": 6,
     "metadata": {},
     "output_type": "execute_result"
    },
    {
     "data": {
      "image/png": "[encoded data removed]",
      "text/plain": [
       "<Figure size 1200x600 with 1 Axes>"
      ]
     },
     "metadata": {},
     "output_type": "display_data"
    }
   ],
   "source": [
    "plt.figure(figsize=(12,6))\n",
    "sns.countplot(x='sentiment',data=tweets_df)"
   ]
  },
  {
   "cell_type": "code",
   "execution_count": 7,
   "id": "0a9d910d",
   "metadata": {},
   "outputs": [],
   "source": [
    "Positive_sent = tweets_df[tweets_df['sentiment']=='positive']\n",
    "Negative_sent = tweets_df[tweets_df['sentiment']=='negative']\n",
    "Neutral_sent = tweets_df[tweets_df['sentiment']=='neutral']"
   ]
  },
  {
   "cell_type": "code",
   "execution_count": 3,
   "id": "15c5de05",
   "metadata": {},
   "outputs": [],
   "source": [
    "from collections import Counter"
   ]
  },
  {
   "cell_type": "code",
   "execution_count": 4,
   "id": "9ed385ea",
   "metadata": {},
   "outputs": [
    {
     "data": {
      "text/plain": [
       "text\n",
       "False    27481\n",
       "Name: count, dtype: int64"
      ]
     },
     "execution_count": 4,
     "metadata": {},
     "output_type": "execute_result"
    }
   ],
   "source": [
    "(tweets_df['text'].str.strip() == '').value_counts()"
   ]
  },
  {
   "cell_type": "code",
   "execution_count": 5,
   "id": "b9376a01",
   "metadata": {
    "scrolled": true
   },
   "outputs": [
    {
     "data": {
      "text/html": [
       "<div>\n",
       "<style scoped>\n",
       "    .dataframe tbody tr th:only-of-type {\n",
       "        vertical-align: middle;\n",
       "    }\n",
       "\n",
       "    .dataframe tbody tr th {\n",
       "        vertical-align: top;\n",
       "    }\n",
       "\n",
       "    .dataframe thead th {\n",
       "        text-align: right;\n",
       "    }\n",
       "</style>\n",
       "<table border=\"1\" class=\"dataframe\">\n",
       "  <thead>\n",
       "    <tr style=\"text-align: right;\">\n",
       "      <th></th>\n",
       "      <th>text</th>\n",
       "      <th>sentiment</th>\n",
       "    </tr>\n",
       "  </thead>\n",
       "  <tbody>\n",
       "  </tbody>\n",
       "</table>\n",
       "</div>"
      ],
      "text/plain": [
       "Empty DataFrame\n",
       "Columns: [text, sentiment]\n",
       "Index: []"
      ]
     },
     "execution_count": 5,
     "metadata": {},
     "output_type": "execute_result"
    }
   ],
   "source": [
    "tweets_df.loc[(tweets_df['text'].str.strip() == '')]"
   ]
  },
  {
   "cell_type": "code",
   "execution_count": 6,
   "id": "3dcf97b4",
   "metadata": {},
   "outputs": [
    {
     "data": {
      "text/html": [
       "<div>\n",
       "<style scoped>\n",
       "    .dataframe tbody tr th:only-of-type {\n",
       "        vertical-align: middle;\n",
       "    }\n",
       "\n",
       "    .dataframe tbody tr th {\n",
       "        vertical-align: top;\n",
       "    }\n",
       "\n",
       "    .dataframe thead th {\n",
       "        text-align: right;\n",
       "    }\n",
       "</style>\n",
       "<table border=\"1\" class=\"dataframe\">\n",
       "  <thead>\n",
       "    <tr style=\"text-align: right;\">\n",
       "      <th></th>\n",
       "      <th>text</th>\n",
       "      <th>sentiment</th>\n",
       "    </tr>\n",
       "  </thead>\n",
       "  <tbody>\n",
       "    <tr>\n",
       "      <th>314</th>\n",
       "      <td>NaN</td>\n",
       "      <td>neutral</td>\n",
       "    </tr>\n",
       "  </tbody>\n",
       "</table>\n",
       "</div>"
      ],
      "text/plain": [
       "    text sentiment\n",
       "314  NaN   neutral"
      ]
     },
     "execution_count": 6,
     "metadata": {},
     "output_type": "execute_result"
    }
   ],
   "source": [
    "#tweets_df['text'].isna().value_counts()\n",
    "tweets_df.loc[tweets_df['text'].isna()]"
   ]
  },
  {
   "cell_type": "code",
   "execution_count": 7,
   "id": "787c4af6",
   "metadata": {},
   "outputs": [],
   "source": [
    "tweets_df.drop(314, inplace=True)"
   ]
  },
  {
   "cell_type": "code",
   "execution_count": 30,
   "id": "d64d71bf",
   "metadata": {},
   "outputs": [],
   "source": [
    "\n",
    "import nltk\n",
    "from nltk.corpus import stopwords\n",
    "from nltk.tokenize import word_tokenize\n",
    "import string\n",
    "\n",
    "\n"
   ]
  },
  {
   "cell_type": "code",
   "execution_count": 31,
   "id": "7839d875-4f59-42ed-b6fd-10e9a19526cd",
   "metadata": {},
   "outputs": [
    {
     "data": {
      "text/plain": [
       "'!\"#$%&\\'()*+,-./:;<=>?@[\\\\]^_`{|}~'"
      ]
     },
     "execution_count": 31,
     "metadata": {},
     "output_type": "execute_result"
    }
   ],
   "source": [
    "string.punctuation"
   ]
  },
  {
   "cell_type": "code",
   "execution_count": 8,
   "id": "0e6df188",
   "metadata": {},
   "outputs": [],
   "source": [
    "def textClean(text):\n",
    "    nopunc = [char.lower() for char in text if char not in string.punctuation]\n",
    "    nopunc = ''.join(nopunc)\n",
    "    tokens = word_tokenize(nopunc)\n",
    "    nohttp = [word for word in tokens if word[0:4]!='http']\n",
    "    nostop = [word for word in nohttp if word not in stopwords.words('english')]\n",
    "    return nostop"
   ]
  },
  {
   "cell_type": "code",
   "execution_count": 9,
   "id": "c9bf3265",
   "metadata": {},
   "outputs": [],
   "source": [
    "from sklearn.feature_extraction.text import CountVectorizer\n",
    "vectorizer = CountVectorizer(analyzer=textClean)\n",
    "\n"
   ]
  },
  {
   "cell_type": "code",
   "execution_count": 12,
   "id": "feb42464-600b-455b-873d-c2cba6309801",
   "metadata": {},
   "outputs": [],
   "source": [
    "message = vectorizer.fit_transform(tweets_df['text'])"
   ]
  },
  {
   "cell_type": "code",
   "execution_count": null,
   "id": "bc263c2a",
   "metadata": {
    "scrolled": true
   },
   "outputs": [],
   "source": [
    "message"
   ]
  },
  {
   "cell_type": "code",
   "execution_count": 18,
   "id": "858806ed",
   "metadata": {
    "scrolled": true
   },
   "outputs": [],
   "source": [
    "doc=pd.DataFrame(message.toarray(),columns=vectorizer.get_feature_names_out())"
   ]
  },
  {
   "cell_type": "code",
   "execution_count": 19,
   "id": "3395c7d7",
   "metadata": {},
   "outputs": [
    {
     "data": {
      "text/html": [
       "<div>\n",
       "<style scoped>\n",
       "    .dataframe tbody tr th:only-of-type {\n",
       "        vertical-align: middle;\n",
       "    }\n",
       "\n",
       "    .dataframe tbody tr th {\n",
       "        vertical-align: top;\n",
       "    }\n",
       "\n",
       "    .dataframe thead th {\n",
       "        text-align: right;\n",
       "    }\n",
       "</style>\n",
       "<table border=\"1\" class=\"dataframe\">\n",
       "  <thead>\n",
       "    <tr style=\"text-align: right;\">\n",
       "      <th></th>\n",
       "      <th>0</th>\n",
       "      <th>00</th>\n",
       "      <th>000</th>\n",
       "      <th>0003</th>\n",
       "      <th>007</th>\n",
       "      <th>01</th>\n",
       "      <th>01xx</th>\n",
       "      <th>024</th>\n",
       "      <th>03</th>\n",
       "      <th>04</th>\n",
       "      <th>...</th>\n",
       "      <th>ï¿½stupidityï¿½</th>\n",
       "      <th>ï¿½tearï¿½</th>\n",
       "      <th>ï¿½timo</th>\n",
       "      <th>ï¿½ureo</th>\n",
       "      <th>ï¿½why</th>\n",
       "      <th>ï¿½whyyy</th>\n",
       "      <th>ï¿½you</th>\n",
       "      <th>ï¿½ï¿½</th>\n",
       "      <th>ï¿½ï¿½h</th>\n",
       "      <th>ï¿½ï¿½ï¿½ï¿½</th>\n",
       "    </tr>\n",
       "  </thead>\n",
       "  <tbody>\n",
       "    <tr>\n",
       "      <th>0</th>\n",
       "      <td>0</td>\n",
       "      <td>0</td>\n",
       "      <td>0</td>\n",
       "      <td>0</td>\n",
       "      <td>0</td>\n",
       "      <td>0</td>\n",
       "      <td>0</td>\n",
       "      <td>0</td>\n",
       "      <td>0</td>\n",
       "      <td>0</td>\n",
       "      <td>...</td>\n",
       "      <td>0</td>\n",
       "      <td>0</td>\n",
       "      <td>0</td>\n",
       "      <td>0</td>\n",
       "      <td>0</td>\n",
       "      <td>0</td>\n",
       "      <td>0</td>\n",
       "      <td>0</td>\n",
       "      <td>0</td>\n",
       "      <td>0</td>\n",
       "    </tr>\n",
       "    <tr>\n",
       "      <th>1</th>\n",
       "      <td>0</td>\n",
       "      <td>0</td>\n",
       "      <td>0</td>\n",
       "      <td>0</td>\n",
       "      <td>0</td>\n",
       "      <td>0</td>\n",
       "      <td>0</td>\n",
       "      <td>0</td>\n",
       "      <td>0</td>\n",
       "      <td>0</td>\n",
       "      <td>...</td>\n",
       "      <td>0</td>\n",
       "      <td>0</td>\n",
       "      <td>0</td>\n",
       "      <td>0</td>\n",
       "      <td>0</td>\n",
       "      <td>0</td>\n",
       "      <td>0</td>\n",
       "      <td>0</td>\n",
       "      <td>0</td>\n",
       "      <td>0</td>\n",
       "    </tr>\n",
       "    <tr>\n",
       "      <th>2</th>\n",
       "      <td>0</td>\n",
       "      <td>0</td>\n",
       "      <td>0</td>\n",
       "      <td>0</td>\n",
       "      <td>0</td>\n",
       "      <td>0</td>\n",
       "      <td>0</td>\n",
       "      <td>0</td>\n",
       "      <td>0</td>\n",
       "      <td>0</td>\n",
       "      <td>...</td>\n",
       "      <td>0</td>\n",
       "      <td>0</td>\n",
       "      <td>0</td>\n",
       "      <td>0</td>\n",
       "      <td>0</td>\n",
       "      <td>0</td>\n",
       "      <td>0</td>\n",
       "      <td>0</td>\n",
       "      <td>0</td>\n",
       "      <td>0</td>\n",
       "    </tr>\n",
       "    <tr>\n",
       "      <th>3</th>\n",
       "      <td>0</td>\n",
       "      <td>0</td>\n",
       "      <td>0</td>\n",
       "      <td>0</td>\n",
       "      <td>0</td>\n",
       "      <td>0</td>\n",
       "      <td>0</td>\n",
       "      <td>0</td>\n",
       "      <td>0</td>\n",
       "      <td>0</td>\n",
       "      <td>...</td>\n",
       "      <td>0</td>\n",
       "      <td>0</td>\n",
       "      <td>0</td>\n",
       "      <td>0</td>\n",
       "      <td>0</td>\n",
       "      <td>0</td>\n",
       "      <td>0</td>\n",
       "      <td>0</td>\n",
       "      <td>0</td>\n",
       "      <td>0</td>\n",
       "    </tr>\n",
       "    <tr>\n",
       "      <th>4</th>\n",
       "      <td>0</td>\n",
       "      <td>0</td>\n",
       "      <td>0</td>\n",
       "      <td>0</td>\n",
       "      <td>0</td>\n",
       "      <td>0</td>\n",
       "      <td>0</td>\n",
       "      <td>0</td>\n",
       "      <td>0</td>\n",
       "      <td>0</td>\n",
       "      <td>...</td>\n",
       "      <td>0</td>\n",
       "      <td>0</td>\n",
       "      <td>0</td>\n",
       "      <td>0</td>\n",
       "      <td>0</td>\n",
       "      <td>0</td>\n",
       "      <td>0</td>\n",
       "      <td>0</td>\n",
       "      <td>0</td>\n",
       "      <td>0</td>\n",
       "    </tr>\n",
       "    <tr>\n",
       "      <th>...</th>\n",
       "      <td>...</td>\n",
       "      <td>...</td>\n",
       "      <td>...</td>\n",
       "      <td>...</td>\n",
       "      <td>...</td>\n",
       "      <td>...</td>\n",
       "      <td>...</td>\n",
       "      <td>...</td>\n",
       "      <td>...</td>\n",
       "      <td>...</td>\n",
       "      <td>...</td>\n",
       "      <td>...</td>\n",
       "      <td>...</td>\n",
       "      <td>...</td>\n",
       "      <td>...</td>\n",
       "      <td>...</td>\n",
       "      <td>...</td>\n",
       "      <td>...</td>\n",
       "      <td>...</td>\n",
       "      <td>...</td>\n",
       "      <td>...</td>\n",
       "    </tr>\n",
       "    <tr>\n",
       "      <th>27475</th>\n",
       "      <td>0</td>\n",
       "      <td>0</td>\n",
       "      <td>0</td>\n",
       "      <td>0</td>\n",
       "      <td>0</td>\n",
       "      <td>0</td>\n",
       "      <td>0</td>\n",
       "      <td>0</td>\n",
       "      <td>0</td>\n",
       "      <td>0</td>\n",
       "      <td>...</td>\n",
       "      <td>0</td>\n",
       "      <td>0</td>\n",
       "      <td>0</td>\n",
       "      <td>0</td>\n",
       "      <td>0</td>\n",
       "      <td>0</td>\n",
       "      <td>0</td>\n",
       "      <td>0</td>\n",
       "      <td>0</td>\n",
       "      <td>0</td>\n",
       "    </tr>\n",
       "    <tr>\n",
       "      <th>27476</th>\n",
       "      <td>0</td>\n",
       "      <td>0</td>\n",
       "      <td>0</td>\n",
       "      <td>0</td>\n",
       "      <td>0</td>\n",
       "      <td>0</td>\n",
       "      <td>0</td>\n",
       "      <td>0</td>\n",
       "      <td>0</td>\n",
       "      <td>0</td>\n",
       "      <td>...</td>\n",
       "      <td>0</td>\n",
       "      <td>0</td>\n",
       "      <td>0</td>\n",
       "      <td>0</td>\n",
       "      <td>0</td>\n",
       "      <td>0</td>\n",
       "      <td>0</td>\n",
       "      <td>0</td>\n",
       "      <td>0</td>\n",
       "      <td>0</td>\n",
       "    </tr>\n",
       "    <tr>\n",
       "      <th>27477</th>\n",
       "      <td>0</td>\n",
       "      <td>0</td>\n",
       "      <td>0</td>\n",
       "      <td>0</td>\n",
       "      <td>0</td>\n",
       "      <td>0</td>\n",
       "      <td>0</td>\n",
       "      <td>0</td>\n",
       "      <td>0</td>\n",
       "      <td>0</td>\n",
       "      <td>...</td>\n",
       "      <td>0</td>\n",
       "      <td>0</td>\n",
       "      <td>0</td>\n",
       "      <td>0</td>\n",
       "      <td>0</td>\n",
       "      <td>0</td>\n",
       "      <td>0</td>\n",
       "      <td>0</td>\n",
       "      <td>0</td>\n",
       "      <td>0</td>\n",
       "    </tr>\n",
       "    <tr>\n",
       "      <th>27478</th>\n",
       "      <td>0</td>\n",
       "      <td>0</td>\n",
       "      <td>0</td>\n",
       "      <td>0</td>\n",
       "      <td>0</td>\n",
       "      <td>0</td>\n",
       "      <td>0</td>\n",
       "      <td>0</td>\n",
       "      <td>0</td>\n",
       "      <td>0</td>\n",
       "      <td>...</td>\n",
       "      <td>0</td>\n",
       "      <td>0</td>\n",
       "      <td>0</td>\n",
       "      <td>0</td>\n",
       "      <td>0</td>\n",
       "      <td>0</td>\n",
       "      <td>0</td>\n",
       "      <td>0</td>\n",
       "      <td>0</td>\n",
       "      <td>0</td>\n",
       "    </tr>\n",
       "    <tr>\n",
       "      <th>27479</th>\n",
       "      <td>0</td>\n",
       "      <td>0</td>\n",
       "      <td>0</td>\n",
       "      <td>0</td>\n",
       "      <td>0</td>\n",
       "      <td>0</td>\n",
       "      <td>0</td>\n",
       "      <td>0</td>\n",
       "      <td>0</td>\n",
       "      <td>0</td>\n",
       "      <td>...</td>\n",
       "      <td>0</td>\n",
       "      <td>0</td>\n",
       "      <td>0</td>\n",
       "      <td>0</td>\n",
       "      <td>0</td>\n",
       "      <td>0</td>\n",
       "      <td>0</td>\n",
       "      <td>0</td>\n",
       "      <td>0</td>\n",
       "      <td>0</td>\n",
       "    </tr>\n",
       "  </tbody>\n",
       "</table>\n",
       "<p>27480 rows × 27820 columns</p>\n",
       "</div>"
      ],
      "text/plain": [
       "       0  00  000  0003  007  01  01xx  024  03  04  ...  ï¿½stupidityï¿½  \\\n",
       "0      0   0    0     0    0   0     0    0   0   0  ...                0   \n",
       "1      0   0    0     0    0   0     0    0   0   0  ...                0   \n",
       "2      0   0    0     0    0   0     0    0   0   0  ...                0   \n",
       "3      0   0    0     0    0   0     0    0   0   0  ...                0   \n",
       "4      0   0    0     0    0   0     0    0   0   0  ...                0   \n",
       "...   ..  ..  ...   ...  ...  ..   ...  ...  ..  ..  ...              ...   \n",
       "27475  0   0    0     0    0   0     0    0   0   0  ...                0   \n",
       "27476  0   0    0     0    0   0     0    0   0   0  ...                0   \n",
       "27477  0   0    0     0    0   0     0    0   0   0  ...                0   \n",
       "27478  0   0    0     0    0   0     0    0   0   0  ...                0   \n",
       "27479  0   0    0     0    0   0     0    0   0   0  ...                0   \n",
       "\n",
       "       ï¿½tearï¿½  ï¿½timo  ï¿½ureo  ï¿½why  ï¿½whyyy  ï¿½you  ï¿½ï¿½  \\\n",
       "0               0        0        0       0         0       0       0   \n",
       "1               0        0        0       0         0       0       0   \n",
       "2               0        0        0       0         0       0       0   \n",
       "3               0        0        0       0         0       0       0   \n",
       "4               0        0        0       0         0       0       0   \n",
       "...           ...      ...      ...     ...       ...     ...     ...   \n",
       "27475           0        0        0       0         0       0       0   \n",
       "27476           0        0        0       0         0       0       0   \n",
       "27477           0        0        0       0         0       0       0   \n",
       "27478           0        0        0       0         0       0       0   \n",
       "27479           0        0        0       0         0       0       0   \n",
       "\n",
       "       ï¿½ï¿½h  ï¿½ï¿½ï¿½ï¿½  \n",
       "0            0             0  \n",
       "1            0             0  \n",
       "2            0             0  \n",
       "3            0             0  \n",
       "4            0             0  \n",
       "...        ...           ...  \n",
       "27475        0             0  \n",
       "27476        0             0  \n",
       "27477        0             0  \n",
       "27478        0             0  \n",
       "27479        0             0  \n",
       "\n",
       "[27480 rows x 27820 columns]"
      ]
     },
     "execution_count": 19,
     "metadata": {},
     "output_type": "execute_result"
    }
   ],
   "source": [
    "doc"
   ]
  },
  {
   "cell_type": "code",
   "execution_count": 20,
   "id": "33cf38fd",
   "metadata": {},
   "outputs": [],
   "source": [
    "small_mat = message[:2, :2]"
   ]
  },
  {
   "cell_type": "code",
   "execution_count": 13,
   "id": "3fb4c8ef",
   "metadata": {},
   "outputs": [],
   "source": [
    "from scipy.sparse import csr_matrix"
   ]
  },
  {
   "cell_type": "code",
   "execution_count": 22,
   "id": "01e469d8",
   "metadata": {},
   "outputs": [],
   "source": [
    "dense_matrix = small_mat.todense()"
   ]
  },
  {
   "cell_type": "code",
   "execution_count": 23,
   "id": "fea04f19",
   "metadata": {},
   "outputs": [
    {
     "data": {
      "text/html": [
       "<div>\n",
       "<style scoped>\n",
       "    .dataframe tbody tr th:only-of-type {\n",
       "        vertical-align: middle;\n",
       "    }\n",
       "\n",
       "    .dataframe tbody tr th {\n",
       "        vertical-align: top;\n",
       "    }\n",
       "\n",
       "    .dataframe thead th {\n",
       "        text-align: right;\n",
       "    }\n",
       "</style>\n",
       "<table border=\"1\" class=\"dataframe\">\n",
       "  <thead>\n",
       "    <tr style=\"text-align: right;\">\n",
       "      <th></th>\n",
       "      <th>0</th>\n",
       "      <th>1</th>\n",
       "    </tr>\n",
       "  </thead>\n",
       "  <tbody>\n",
       "    <tr>\n",
       "      <th>0</th>\n",
       "      <td>0</td>\n",
       "      <td>0</td>\n",
       "    </tr>\n",
       "    <tr>\n",
       "      <th>1</th>\n",
       "      <td>0</td>\n",
       "      <td>0</td>\n",
       "    </tr>\n",
       "  </tbody>\n",
       "</table>\n",
       "</div>"
      ],
      "text/plain": [
       "   0  1\n",
       "0  0  0\n",
       "1  0  0"
      ]
     },
     "execution_count": 23,
     "metadata": {},
     "output_type": "execute_result"
    }
   ],
   "source": [
    "df = pd.DataFrame(dense_matrix)\n",
    "df"
   ]
  },
  {
   "cell_type": "code",
   "execution_count": 14,
   "id": "f09e217a",
   "metadata": {},
   "outputs": [],
   "source": [
    "#split the data into 80% training and 20% testing\n",
    "from sklearn.model_selection import train_test_split\n",
    "xtrain, xtest, ytrain, ytest = train_test_split(message,tweets_df.sentiment,test_size=0.20,random_state=22)"
   ]
  },
  {
   "cell_type": "code",
   "execution_count": 25,
   "id": "8352ef0d",
   "metadata": {},
   "outputs": [
    {
     "data": {
      "text/plain": [
       "2293      neutral\n",
       "24449    negative\n",
       "1159     negative\n",
       "6759     positive\n",
       "520      positive\n",
       "           ...   \n",
       "23031     neutral\n",
       "21863    positive\n",
       "24933    negative\n",
       "22661    negative\n",
       "11126     neutral\n",
       "Name: sentiment, Length: 21984, dtype: object"
      ]
     },
     "execution_count": 25,
     "metadata": {},
     "output_type": "execute_result"
    }
   ],
   "source": [
    "ytrain"
   ]
  },
  {
   "cell_type": "code",
   "execution_count": 15,
   "id": "5f0a84e8",
   "metadata": {},
   "outputs": [],
   "source": [
    "from sklearn.svm import SVC"
   ]
  },
  {
   "cell_type": "markdown",
   "id": "2f5867ee-da06-4816-af42-baafbfe064e6",
   "metadata": {},
   "source": [
    " # linear model"
   ]
  },
  {
   "cell_type": "code",
   "execution_count": 16,
   "id": "a8f03424",
   "metadata": {},
   "outputs": [
    {
     "data": {
      "text/html": [
       "<style>#sk-container-id-1 {color: black;background-color: white;}#sk-container-id-1 pre{padding: 0;}#sk-container-id-1 div.sk-toggleable {background-color: white;}#sk-container-id-1 label.sk-toggleable__label {cursor: pointer;display: block;width: 100%;margin-bottom: 0;padding: 0.3em;box-sizing: border-box;text-align: center;}#sk-container-id-1 label.sk-toggleable__label-arrow:before {content: \"▸\";float: left;margin-right: 0.25em;color: #696969;}#sk-container-id-1 label.sk-toggleable__label-arrow:hover:before {color: black;}#sk-container-id-1 div.sk-estimator:hover label.sk-toggleable__label-arrow:before {color: black;}#sk-container-id-1 div.sk-toggleable__content {max-height: 0;max-width: 0;overflow: hidden;text-align: left;background-color: #f0f8ff;}#sk-container-id-1 div.sk-toggleable__content pre {margin: 0.2em;color: black;border-radius: 0.25em;background-color: #f0f8ff;}#sk-container-id-1 input.sk-toggleable__control:checked~div.sk-toggleable__content {max-height: 200px;max-width: 100%;overflow: auto;}#sk-container-id-1 input.sk-toggleable__control:checked~label.sk-toggleable__label-arrow:before {content: \"▾\";}#sk-container-id-1 div.sk-estimator input.sk-toggleable__control:checked~label.sk-toggleable__label {background-color: #d4ebff;}#sk-container-id-1 div.sk-label input.sk-toggleable__control:checked~label.sk-toggleable__label {background-color: #d4ebff;}#sk-container-id-1 input.sk-hidden--visually {border: 0;clip: rect(1px 1px 1px 1px);clip: rect(1px, 1px, 1px, 1px);height: 1px;margin: -1px;overflow: hidden;padding: 0;position: absolute;width: 1px;}#sk-container-id-1 div.sk-estimator {font-family: monospace;background-color: #f0f8ff;border: 1px dotted black;border-radius: 0.25em;box-sizing: border-box;margin-bottom: 0.5em;}#sk-container-id-1 div.sk-estimator:hover {background-color: #d4ebff;}#sk-container-id-1 div.sk-parallel-item::after {content: \"\";width: 100%;border-bottom: 1px solid gray;flex-grow: 1;}#sk-container-id-1 div.sk-label:hover label.sk-toggleable__label {background-color: #d4ebff;}#sk-container-id-1 div.sk-serial::before {content: \"\";position: absolute;border-left: 1px solid gray;box-sizing: border-box;top: 0;bottom: 0;left: 50%;z-index: 0;}#sk-container-id-1 div.sk-serial {display: flex;flex-direction: column;align-items: center;background-color: white;padding-right: 0.2em;padding-left: 0.2em;position: relative;}#sk-container-id-1 div.sk-item {position: relative;z-index: 1;}#sk-container-id-1 div.sk-parallel {display: flex;align-items: stretch;justify-content: center;background-color: white;position: relative;}#sk-container-id-1 div.sk-item::before, #sk-container-id-1 div.sk-parallel-item::before {content: \"\";position: absolute;border-left: 1px solid gray;box-sizing: border-box;top: 0;bottom: 0;left: 50%;z-index: -1;}#sk-container-id-1 div.sk-parallel-item {display: flex;flex-direction: column;z-index: 1;position: relative;background-color: white;}#sk-container-id-1 div.sk-parallel-item:first-child::after {align-self: flex-end;width: 50%;}#sk-container-id-1 div.sk-parallel-item:last-child::after {align-self: flex-start;width: 50%;}#sk-container-id-1 div.sk-parallel-item:only-child::after {width: 0;}#sk-container-id-1 div.sk-dashed-wrapped {border: 1px dashed gray;margin: 0 0.4em 0.5em 0.4em;box-sizing: border-box;padding-bottom: 0.4em;background-color: white;}#sk-container-id-1 div.sk-label label {font-family: monospace;font-weight: bold;display: inline-block;line-height: 1.2em;}#sk-container-id-1 div.sk-label-container {text-align: center;}#sk-container-id-1 div.sk-container {/* jupyter's `normalize.less` sets `[hidden] { display: none; }` but bootstrap.min.css set `[hidden] { display: none !important; }` so we also need the `!important` here to be able to override the default hidden behavior on the sphinx rendered scikit-learn.org. See: https://github.com/scikit-learn/scikit-learn/issues/21755 */display: inline-block !important;position: relative;}#sk-container-id-1 div.sk-text-repr-fallback {display: none;}</style><div id=\"sk-container-id-1\" class=\"sk-top-container\"><div class=\"sk-text-repr-fallback\"><pre>SVC(C=0.4, gamma=0.8, kernel=&#x27;linear&#x27;)</pre><b>In a Jupyter environment, please rerun this cell to show the HTML representation or trust the notebook. <br />On GitHub, the HTML representation is unable to render, please try loading this page with nbviewer.org.</b></div><div class=\"sk-container\" hidden><div class=\"sk-item\"><div class=\"sk-estimator sk-toggleable\"><input class=\"sk-toggleable__control sk-hidden--visually\" id=\"sk-estimator-id-1\" type=\"checkbox\" checked><label for=\"sk-estimator-id-1\" class=\"sk-toggleable__label sk-toggleable__label-arrow\">SVC</label><div class=\"sk-toggleable__content\"><pre>SVC(C=0.4, gamma=0.8, kernel=&#x27;linear&#x27;)</pre></div></div></div></div></div>"
      ],
      "text/plain": [
       "SVC(C=0.4, gamma=0.8, kernel='linear')"
      ]
     },
     "execution_count": 16,
     "metadata": {},
     "output_type": "execute_result"
    }
   ],
   "source": [
    "svc_model = SVC(C= 0.4, kernel='linear', gamma= .8)\n",
    "svc_model.fit(xtrain, ytrain)"
   ]
  },
  {
   "cell_type": "code",
   "execution_count": 26,
   "id": "3e3baa1f",
   "metadata": {},
   "outputs": [],
   "source": [
    "#svc_model.fit(xtrain, ytrain)"
   ]
  },
  {
   "cell_type": "markdown",
   "id": "db1c6e64-13c1-4a4f-933d-06623992317b",
   "metadata": {},
   "source": [
    "# some tuning to find best regluarization parameter for the model "
   ]
  },
  {
   "cell_type": "code",
   "execution_count": 28,
   "id": "cc779f1f",
   "metadata": {},
   "outputs": [
    {
     "data": {
      "text/plain": [
       "'\\nnp.random.seed()\\n\\n# Initialize the variable\\nmy_variable = 0.0\\n\\n# Set the number of iterations\\nnum_iterations = 10  # You can change this to any desired number\\n\\n# Loop to increase the variable by 0.1 in each iteration\\nfor _ in range(num_iterations):\\n    my_variable += 0.1\\n    print(my_variable)\\n    print(f\\'c in the model: {my_variable}\\')\\n    svc_model =SVC(C= my_variable, kernel=\\'linear\\', gamma= .8).fit(xtrain, ytrain)\\n    print(f\"The model Accuracy: {svc_model.score(xtest, ytest) * 100 :.2f}%\\n\")\\n'"
      ]
     },
     "execution_count": 28,
     "metadata": {},
     "output_type": "execute_result"
    }
   ],
   "source": [
    "\"\"\"\n",
    "np.random.seed()\n",
    "\n",
    "# Initialize the variable\n",
    "my_variable = 0.0\n",
    "\n",
    "# Set the number of iterations\n",
    "num_iterations = 10  # You can change this to any desired number\n",
    "\n",
    "# Loop to increase the variable by 0.1 in each iteration\n",
    "for _ in range(num_iterations):\n",
    "    my_variable += 0.1\n",
    "    print(my_variable)\n",
    "    print(f'c in the model: {my_variable}')\n",
    "    svc_model =SVC(C= my_variable, kernel='linear', gamma= .8).fit(xtrain, ytrain)\n",
    "    print(f\"The model Accuracy: {svc_model.score(xtest, ytest) * 100 :.2f}%\\n\")\n",
    "\"\"\""
   ]
  },
  {
   "cell_type": "code",
   "execution_count": 17,
   "id": "4d5ffacd",
   "metadata": {},
   "outputs": [
    {
     "name": "stdout",
     "output_type": "stream",
     "text": [
      "              precision    recall  f1-score   support\n",
      "\n",
      "    negative       0.91      0.83      0.87      6189\n",
      "     neutral       0.84      0.90      0.87      8868\n",
      "    positive       0.90      0.89      0.90      6927\n",
      "\n",
      "    accuracy                           0.88     21984\n",
      "   macro avg       0.88      0.87      0.88     21984\n",
      "weighted avg       0.88      0.88      0.88     21984\n",
      "\n",
      "\n",
      "Accuracy: \n",
      " 0.8777292576419214\n"
     ]
    }
   ],
   "source": [
    "# Evaluating the model on the training data set\n",
    "from sklearn.metrics import classification_report, confusion_matrix, accuracy_score\n",
    "pred = svc_model.predict(xtrain)\n",
    "print(classification_report(ytrain, pred))\n",
    "print()\n",
    "#print(\"Confusion Matrix: \\n\", confusion_matrix(ytrain, pred))\n",
    "print(\"Accuracy: \\n\", accuracy_score(ytrain, pred))"
   ]
  },
  {
   "cell_type": "code",
   "execution_count": 29,
   "id": "bae44e9f",
   "metadata": {},
   "outputs": [
    {
     "name": "stdout",
     "output_type": "stream",
     "text": [
      "              precision    recall  f1-score   support\n",
      "\n",
      "    negative       0.73      0.63      0.67      1592\n",
      "     neutral       0.66      0.75      0.70      2249\n",
      "    positive       0.77      0.75      0.76      1655\n",
      "\n",
      "    accuracy                           0.71      5496\n",
      "   macro avg       0.72      0.71      0.71      5496\n",
      "weighted avg       0.72      0.71      0.71      5496\n",
      "\n",
      "\n",
      "Accuracy: \n",
      " 0.7114264919941776\n"
     ]
    }
   ],
   "source": [
    "pred = svc_model.predict(xtest)\n",
    "print(classification_report(ytest, pred))\n",
    "print()\n",
    "#print(\"Confusion Matrix: \\n\", confusion_matrix(ytest, pred))\n",
    "print(\"Accuracy: \\n\", accuracy_score(ytest, pred))"
   ]
  },
  {
   "cell_type": "code",
   "execution_count": 18,
   "id": "c39ba5b0",
   "metadata": {
    "scrolled": true
   },
   "outputs": [
    {
     "name": "stdout",
     "output_type": "stream",
     "text": [
      "positive 😀\n",
      "negative 😞\n",
      "positive 😀\n",
      "neutral 😐\n"
     ]
    }
   ],
   "source": [
    "# Step 6: Predict sentiment on new data\n",
    "#predictions = svm.predict(features_test)\n",
    "new_text = [\"I love this movie!\", \"This product is terrible.\", \"The food was delicious.\",\"This product is alright\"]\n",
    "new_features = vectorizer.transform(new_text)\n",
    "new_predictions = svc_model.predict(new_features)\n",
    "for i in new_predictions:\n",
    "    if i=='positive':\n",
    "        print(i,\"😀\")\n",
    "    elif i=='negative':\n",
    "        print(i,\"😞\")\n",
    "    elif i=='neutral':\n",
    "        print(i,\"😐\")\n",
    "    \n",
    "#print(new_predictions)"
   ]
  },
  {
   "cell_type": "code",
   "execution_count": null,
   "id": "6a2bf4e2-e27e-4741-a06b-1fc5ba91fc5e",
   "metadata": {},
   "outputs": [],
   "source": []
  },
  {
   "cell_type": "code",
   "execution_count": 34,
   "id": "0c2a17d4-5e71-4811-9aa3-52f02ea4ad4e",
   "metadata": {},
   "outputs": [],
   "source": [
    "new_features = vectorizer.fit_transform(test_df['text'])"
   ]
  },
  {
   "cell_type": "code",
   "execution_count": 35,
   "id": "d29c4b7c-157b-4ed5-bd5d-5ba8e4be597a",
   "metadata": {},
   "outputs": [
    {
     "data": {
      "text/plain": [
       "<3534x7256 sparse matrix of type '<class 'numpy.int64'>'\n",
       "\twith 25098 stored elements in Compressed Sparse Row format>"
      ]
     },
     "execution_count": 35,
     "metadata": {},
     "output_type": "execute_result"
    }
   ],
   "source": [
    "new_features"
   ]
  },
  {
   "cell_type": "code",
   "execution_count": 36,
   "id": "ebe77d05-9f28-4841-95e4-9e25d4fc1be7",
   "metadata": {},
   "outputs": [],
   "source": [
    "dense_matrix = new_features.todense()"
   ]
  },
  {
   "cell_type": "code",
   "execution_count": 37,
   "id": "88cfc3e0-29a4-4af7-a2f9-718aaf6afac5",
   "metadata": {},
   "outputs": [
    {
     "data": {
      "text/html": [
       "<div>\n",
       "<style scoped>\n",
       "    .dataframe tbody tr th:only-of-type {\n",
       "        vertical-align: middle;\n",
       "    }\n",
       "\n",
       "    .dataframe tbody tr th {\n",
       "        vertical-align: top;\n",
       "    }\n",
       "\n",
       "    .dataframe thead th {\n",
       "        text-align: right;\n",
       "    }\n",
       "</style>\n",
       "<table border=\"1\" class=\"dataframe\">\n",
       "  <thead>\n",
       "    <tr style=\"text-align: right;\">\n",
       "      <th></th>\n",
       "      <th>0</th>\n",
       "      <th>1</th>\n",
       "      <th>2</th>\n",
       "      <th>3</th>\n",
       "      <th>4</th>\n",
       "      <th>5</th>\n",
       "      <th>6</th>\n",
       "      <th>7</th>\n",
       "      <th>8</th>\n",
       "      <th>9</th>\n",
       "      <th>...</th>\n",
       "      <th>7246</th>\n",
       "      <th>7247</th>\n",
       "      <th>7248</th>\n",
       "      <th>7249</th>\n",
       "      <th>7250</th>\n",
       "      <th>7251</th>\n",
       "      <th>7252</th>\n",
       "      <th>7253</th>\n",
       "      <th>7254</th>\n",
       "      <th>7255</th>\n",
       "    </tr>\n",
       "  </thead>\n",
       "  <tbody>\n",
       "    <tr>\n",
       "      <th>0</th>\n",
       "      <td>0</td>\n",
       "      <td>0</td>\n",
       "      <td>0</td>\n",
       "      <td>0</td>\n",
       "      <td>0</td>\n",
       "      <td>0</td>\n",
       "      <td>0</td>\n",
       "      <td>0</td>\n",
       "      <td>0</td>\n",
       "      <td>0</td>\n",
       "      <td>...</td>\n",
       "      <td>0</td>\n",
       "      <td>0</td>\n",
       "      <td>0</td>\n",
       "      <td>0</td>\n",
       "      <td>0</td>\n",
       "      <td>0</td>\n",
       "      <td>0</td>\n",
       "      <td>0</td>\n",
       "      <td>0</td>\n",
       "      <td>0</td>\n",
       "    </tr>\n",
       "    <tr>\n",
       "      <th>1</th>\n",
       "      <td>0</td>\n",
       "      <td>0</td>\n",
       "      <td>0</td>\n",
       "      <td>0</td>\n",
       "      <td>0</td>\n",
       "      <td>0</td>\n",
       "      <td>0</td>\n",
       "      <td>0</td>\n",
       "      <td>0</td>\n",
       "      <td>0</td>\n",
       "      <td>...</td>\n",
       "      <td>0</td>\n",
       "      <td>0</td>\n",
       "      <td>0</td>\n",
       "      <td>0</td>\n",
       "      <td>0</td>\n",
       "      <td>0</td>\n",
       "      <td>0</td>\n",
       "      <td>0</td>\n",
       "      <td>0</td>\n",
       "      <td>0</td>\n",
       "    </tr>\n",
       "    <tr>\n",
       "      <th>2</th>\n",
       "      <td>0</td>\n",
       "      <td>0</td>\n",
       "      <td>0</td>\n",
       "      <td>0</td>\n",
       "      <td>0</td>\n",
       "      <td>0</td>\n",
       "      <td>0</td>\n",
       "      <td>0</td>\n",
       "      <td>0</td>\n",
       "      <td>0</td>\n",
       "      <td>...</td>\n",
       "      <td>0</td>\n",
       "      <td>0</td>\n",
       "      <td>0</td>\n",
       "      <td>0</td>\n",
       "      <td>0</td>\n",
       "      <td>0</td>\n",
       "      <td>0</td>\n",
       "      <td>0</td>\n",
       "      <td>0</td>\n",
       "      <td>0</td>\n",
       "    </tr>\n",
       "    <tr>\n",
       "      <th>3</th>\n",
       "      <td>0</td>\n",
       "      <td>0</td>\n",
       "      <td>0</td>\n",
       "      <td>0</td>\n",
       "      <td>0</td>\n",
       "      <td>0</td>\n",
       "      <td>0</td>\n",
       "      <td>0</td>\n",
       "      <td>0</td>\n",
       "      <td>0</td>\n",
       "      <td>...</td>\n",
       "      <td>0</td>\n",
       "      <td>0</td>\n",
       "      <td>0</td>\n",
       "      <td>0</td>\n",
       "      <td>0</td>\n",
       "      <td>0</td>\n",
       "      <td>0</td>\n",
       "      <td>0</td>\n",
       "      <td>0</td>\n",
       "      <td>0</td>\n",
       "    </tr>\n",
       "    <tr>\n",
       "      <th>4</th>\n",
       "      <td>0</td>\n",
       "      <td>0</td>\n",
       "      <td>0</td>\n",
       "      <td>0</td>\n",
       "      <td>0</td>\n",
       "      <td>0</td>\n",
       "      <td>0</td>\n",
       "      <td>0</td>\n",
       "      <td>0</td>\n",
       "      <td>0</td>\n",
       "      <td>...</td>\n",
       "      <td>0</td>\n",
       "      <td>0</td>\n",
       "      <td>0</td>\n",
       "      <td>0</td>\n",
       "      <td>0</td>\n",
       "      <td>0</td>\n",
       "      <td>0</td>\n",
       "      <td>0</td>\n",
       "      <td>0</td>\n",
       "      <td>0</td>\n",
       "    </tr>\n",
       "    <tr>\n",
       "      <th>...</th>\n",
       "      <td>...</td>\n",
       "      <td>...</td>\n",
       "      <td>...</td>\n",
       "      <td>...</td>\n",
       "      <td>...</td>\n",
       "      <td>...</td>\n",
       "      <td>...</td>\n",
       "      <td>...</td>\n",
       "      <td>...</td>\n",
       "      <td>...</td>\n",
       "      <td>...</td>\n",
       "      <td>...</td>\n",
       "      <td>...</td>\n",
       "      <td>...</td>\n",
       "      <td>...</td>\n",
       "      <td>...</td>\n",
       "      <td>...</td>\n",
       "      <td>...</td>\n",
       "      <td>...</td>\n",
       "      <td>...</td>\n",
       "      <td>...</td>\n",
       "    </tr>\n",
       "    <tr>\n",
       "      <th>3529</th>\n",
       "      <td>0</td>\n",
       "      <td>0</td>\n",
       "      <td>0</td>\n",
       "      <td>0</td>\n",
       "      <td>0</td>\n",
       "      <td>0</td>\n",
       "      <td>0</td>\n",
       "      <td>0</td>\n",
       "      <td>0</td>\n",
       "      <td>0</td>\n",
       "      <td>...</td>\n",
       "      <td>0</td>\n",
       "      <td>0</td>\n",
       "      <td>0</td>\n",
       "      <td>0</td>\n",
       "      <td>0</td>\n",
       "      <td>0</td>\n",
       "      <td>0</td>\n",
       "      <td>0</td>\n",
       "      <td>0</td>\n",
       "      <td>0</td>\n",
       "    </tr>\n",
       "    <tr>\n",
       "      <th>3530</th>\n",
       "      <td>0</td>\n",
       "      <td>0</td>\n",
       "      <td>0</td>\n",
       "      <td>0</td>\n",
       "      <td>0</td>\n",
       "      <td>0</td>\n",
       "      <td>0</td>\n",
       "      <td>0</td>\n",
       "      <td>0</td>\n",
       "      <td>0</td>\n",
       "      <td>...</td>\n",
       "      <td>0</td>\n",
       "      <td>0</td>\n",
       "      <td>0</td>\n",
       "      <td>0</td>\n",
       "      <td>0</td>\n",
       "      <td>0</td>\n",
       "      <td>0</td>\n",
       "      <td>0</td>\n",
       "      <td>0</td>\n",
       "      <td>0</td>\n",
       "    </tr>\n",
       "    <tr>\n",
       "      <th>3531</th>\n",
       "      <td>0</td>\n",
       "      <td>0</td>\n",
       "      <td>0</td>\n",
       "      <td>0</td>\n",
       "      <td>0</td>\n",
       "      <td>0</td>\n",
       "      <td>0</td>\n",
       "      <td>0</td>\n",
       "      <td>0</td>\n",
       "      <td>0</td>\n",
       "      <td>...</td>\n",
       "      <td>0</td>\n",
       "      <td>0</td>\n",
       "      <td>0</td>\n",
       "      <td>0</td>\n",
       "      <td>0</td>\n",
       "      <td>0</td>\n",
       "      <td>0</td>\n",
       "      <td>0</td>\n",
       "      <td>0</td>\n",
       "      <td>0</td>\n",
       "    </tr>\n",
       "    <tr>\n",
       "      <th>3532</th>\n",
       "      <td>0</td>\n",
       "      <td>0</td>\n",
       "      <td>0</td>\n",
       "      <td>0</td>\n",
       "      <td>0</td>\n",
       "      <td>0</td>\n",
       "      <td>0</td>\n",
       "      <td>0</td>\n",
       "      <td>0</td>\n",
       "      <td>0</td>\n",
       "      <td>...</td>\n",
       "      <td>0</td>\n",
       "      <td>0</td>\n",
       "      <td>0</td>\n",
       "      <td>0</td>\n",
       "      <td>0</td>\n",
       "      <td>0</td>\n",
       "      <td>0</td>\n",
       "      <td>0</td>\n",
       "      <td>0</td>\n",
       "      <td>0</td>\n",
       "    </tr>\n",
       "    <tr>\n",
       "      <th>3533</th>\n",
       "      <td>0</td>\n",
       "      <td>0</td>\n",
       "      <td>0</td>\n",
       "      <td>0</td>\n",
       "      <td>0</td>\n",
       "      <td>0</td>\n",
       "      <td>0</td>\n",
       "      <td>0</td>\n",
       "      <td>0</td>\n",
       "      <td>0</td>\n",
       "      <td>...</td>\n",
       "      <td>0</td>\n",
       "      <td>0</td>\n",
       "      <td>0</td>\n",
       "      <td>0</td>\n",
       "      <td>0</td>\n",
       "      <td>0</td>\n",
       "      <td>0</td>\n",
       "      <td>0</td>\n",
       "      <td>0</td>\n",
       "      <td>0</td>\n",
       "    </tr>\n",
       "  </tbody>\n",
       "</table>\n",
       "<p>3534 rows × 7256 columns</p>\n",
       "</div>"
      ],
      "text/plain": [
       "      0     1     2     3     4     5     6     7     8     9     ...  7246  \\\n",
       "0        0     0     0     0     0     0     0     0     0     0  ...     0   \n",
       "1        0     0     0     0     0     0     0     0     0     0  ...     0   \n",
       "2        0     0     0     0     0     0     0     0     0     0  ...     0   \n",
       "3        0     0     0     0     0     0     0     0     0     0  ...     0   \n",
       "4        0     0     0     0     0     0     0     0     0     0  ...     0   \n",
       "...    ...   ...   ...   ...   ...   ...   ...   ...   ...   ...  ...   ...   \n",
       "3529     0     0     0     0     0     0     0     0     0     0  ...     0   \n",
       "3530     0     0     0     0     0     0     0     0     0     0  ...     0   \n",
       "3531     0     0     0     0     0     0     0     0     0     0  ...     0   \n",
       "3532     0     0     0     0     0     0     0     0     0     0  ...     0   \n",
       "3533     0     0     0     0     0     0     0     0     0     0  ...     0   \n",
       "\n",
       "      7247  7248  7249  7250  7251  7252  7253  7254  7255  \n",
       "0        0     0     0     0     0     0     0     0     0  \n",
       "1        0     0     0     0     0     0     0     0     0  \n",
       "2        0     0     0     0     0     0     0     0     0  \n",
       "3        0     0     0     0     0     0     0     0     0  \n",
       "4        0     0     0     0     0     0     0     0     0  \n",
       "...    ...   ...   ...   ...   ...   ...   ...   ...   ...  \n",
       "3529     0     0     0     0     0     0     0     0     0  \n",
       "3530     0     0     0     0     0     0     0     0     0  \n",
       "3531     0     0     0     0     0     0     0     0     0  \n",
       "3532     0     0     0     0     0     0     0     0     0  \n",
       "3533     0     0     0     0     0     0     0     0     0  \n",
       "\n",
       "[3534 rows x 7256 columns]"
      ]
     },
     "execution_count": 37,
     "metadata": {},
     "output_type": "execute_result"
    }
   ],
   "source": [
    "df = pd.DataFrame(dense_matrix)\n",
    "df"
   ]
  },
  {
   "cell_type": "code",
   "execution_count": 32,
   "id": "5283c8c9",
   "metadata": {},
   "outputs": [
    {
     "name": "stdout",
     "output_type": "stream",
     "text": [
      "☺️\n"
     ]
    }
   ],
   "source": [
    "print(\"☺️\")"
   ]
  },
  {
   "cell_type": "code",
   "execution_count": null,
   "id": "5563b088",
   "metadata": {},
   "outputs": [],
   "source": [
    "message2 = vectorizer.transform(test_df['text'])  # vector = xtest      test_data.sentiment=ytest"
   ]
  },
  {
   "cell_type": "code",
   "execution_count": null,
   "id": "a8b2fe62-e6ba-43d2-a562-be421069cee6",
   "metadata": {},
   "outputs": [],
   "source": [
    "# Check the shape\n",
    "print(message2.shape)  # This should be (number_of_samples, 27820)"
   ]
  },
  {
   "cell_type": "code",
   "execution_count": null,
   "id": "50330f4e-4448-4800-bdef-06ffbdcd7675",
   "metadata": {},
   "outputs": [],
   "source": [
    "test_df['sentiment'].shape"
   ]
  },
  {
   "cell_type": "markdown",
   "id": "50cc0729-1ee9-47ea-8635-a633b21b20aa",
   "metadata": {},
   "source": [
    "# some tuning to find best  parameters for the model "
   ]
  },
  {
   "cell_type": "code",
   "execution_count": 42,
   "id": "49fafc91",
   "metadata": {
    "scrolled": true
   },
   "outputs": [
    {
     "name": "stdout",
     "output_type": "stream",
     "text": [
      "0.2\n",
      "0.4\n",
      "0.6000000000000001\n",
      "0.8\n",
      "1.0\n"
     ]
    }
   ],
   "source": [
    "#testing code\n",
    "# Initialize the variable\n",
    "my_variable = 0.0\n",
    "\n",
    "# Set the number of iterations\n",
    "num_iterations = 5  \n",
    "for _ in range(num_iterations):\n",
    "    my_variable += 0.2\n",
    "    print(my_variable)\n"
   ]
  },
  {
   "cell_type": "code",
   "execution_count": 53,
   "id": "568a36f4-8d89-4bea-b17f-c686d6d89355",
   "metadata": {},
   "outputs": [
    {
     "name": "stdout",
     "output_type": "stream",
     "text": [
      "(21984, 27820)\n",
      "(5496, 27820)\n"
     ]
    }
   ],
   "source": [
    "print(xtrain.shape)\n",
    "print(xtest.shape)\n"
   ]
  },
  {
   "cell_type": "code",
   "execution_count": 64,
   "id": "79a99469-4eb8-41ba-ab7d-520aca761051",
   "metadata": {},
   "outputs": [
    {
     "data": {
      "text/plain": [
       "<5496x27820 sparse matrix of type '<class 'numpy.int64'>'\n",
       "\twith 39377 stored elements in Compressed Sparse Row format>"
      ]
     },
     "execution_count": 64,
     "metadata": {},
     "output_type": "execute_result"
    }
   ],
   "source": [
    "xtest"
   ]
  },
  {
   "cell_type": "code",
   "execution_count": 65,
   "id": "61ffceea-b17e-4c5d-aafb-07d55bf0e31f",
   "metadata": {},
   "outputs": [
    {
     "data": {
      "text/plain": [
       "24225     neutral\n",
       "26159     neutral\n",
       "146      negative\n",
       "24575    negative\n",
       "13164    positive\n",
       "           ...   \n",
       "20070    positive\n",
       "20831    negative\n",
       "23553    positive\n",
       "14488    positive\n",
       "8396     positive\n",
       "Name: sentiment, Length: 5496, dtype: object"
      ]
     },
     "execution_count": 65,
     "metadata": {},
     "output_type": "execute_result"
    }
   ],
   "source": [
    "ytest"
   ]
  },
  {
   "cell_type": "code",
   "execution_count": null,
   "id": "8dccce69",
   "metadata": {
    "scrolled": true
   },
   "outputs": [
    {
     "name": "stdout",
     "output_type": "stream",
     "text": [
      "c in the model: 0.2\n",
      "0.1\n",
      "The model Accuracy: 70.98%\n",
      " score of test data 0.7097889374090247\n",
      "1.0\n",
      "The model Accuracy: 70.98%\n",
      " score of test data 0.7097889374090247\n",
      "10.0\n",
      "The model Accuracy: 70.98%\n",
      " score of test data 0.7097889374090247\n",
      "100.0\n",
      "The model Accuracy: 70.98%\n",
      " score of test data 0.7097889374090247\n",
      "1000.0\n",
      "The model Accuracy: 70.98%\n",
      " score of test data 0.7097889374090247\n",
      "c in the model: 0.4\n",
      "0.1\n",
      "The model Accuracy: 71.14%\n",
      " score of test data 0.7114264919941776\n",
      "1.0\n",
      "The model Accuracy: 71.14%\n",
      " score of test data 0.7114264919941776\n",
      "10.0\n",
      "The model Accuracy: 71.14%\n",
      " score of test data 0.7114264919941776\n",
      "100.0\n",
      "The model Accuracy: 71.14%\n",
      " score of test data 0.7114264919941776\n",
      "1000.0\n",
      "The model Accuracy: 71.14%\n",
      " score of test data 0.7114264919941776\n",
      "c in the model: 0.6000000000000001\n",
      "0.1\n",
      "The model Accuracy: 70.94%\n",
      " score of test data 0.7094250363901019\n",
      "1.0\n",
      "The model Accuracy: 70.94%\n",
      " score of test data 0.7094250363901019\n",
      "10.0\n",
      "The model Accuracy: 70.94%\n",
      " score of test data 0.7094250363901019\n",
      "100.0\n",
      "The model Accuracy: 70.94%\n",
      " score of test data 0.7094250363901019\n",
      "1000.0\n",
      "The model Accuracy: 70.94%\n",
      " score of test data 0.7094250363901019\n",
      "c in the model: 0.8\n",
      "0.1\n",
      "The model Accuracy: 70.29%\n",
      " score of test data 0.7028748180494906\n",
      "1.0\n",
      "The model Accuracy: 70.29%\n",
      " score of test data 0.7028748180494906\n",
      "10.0\n",
      "The model Accuracy: 70.29%\n",
      " score of test data 0.7028748180494906\n",
      "100.0\n",
      "The model Accuracy: 70.29%\n",
      " score of test data 0.7028748180494906\n",
      "1000.0\n"
     ]
    }
   ],
   "source": [
    "\n",
    "\n",
    "# Initialize the variable\n",
    "c = 0.0\n",
    "\n",
    "# Set the number of iterations\n",
    "num_iterations = 5  # You can change this to any desired number\n",
    "\n",
    "# Loop to increase the variable by 0.1 in each iteration\n",
    "for _ in range(num_iterations):\n",
    "    c += 0.2\n",
    "    \n",
    "    g = 0.1\n",
    "    \n",
    "    print(f'c in the model: {c}')\n",
    "    for i in range(5):\n",
    "        \n",
    "        print(g)\n",
    "        svc_model =SVC(C= c, kernel='linear', gamma= g).fit(xtrain, ytrain)\n",
    "        print(f\"The model Accuracy: {svc_model.score(xtest, ytest) * 100 :.2f}%\\n\",\"score of test data\",svc_model.score(xtest,ytest))\n",
    "        \n",
    "        g = g *10"
   ]
  },
  {
   "cell_type": "code",
   "execution_count": 19,
   "id": "7886b391-bfbf-4d95-ae7a-4f4e22a1323f",
   "metadata": {},
   "outputs": [
    {
     "data": {
      "text/html": [
       "<div>\n",
       "<style scoped>\n",
       "    .dataframe tbody tr th:only-of-type {\n",
       "        vertical-align: middle;\n",
       "    }\n",
       "\n",
       "    .dataframe tbody tr th {\n",
       "        vertical-align: top;\n",
       "    }\n",
       "\n",
       "    .dataframe thead th {\n",
       "        text-align: right;\n",
       "    }\n",
       "</style>\n",
       "<table border=\"1\" class=\"dataframe\">\n",
       "  <thead>\n",
       "    <tr style=\"text-align: right;\">\n",
       "      <th></th>\n",
       "      <th>text</th>\n",
       "      <th>sentiment</th>\n",
       "    </tr>\n",
       "  </thead>\n",
       "  <tbody>\n",
       "    <tr>\n",
       "      <th>0</th>\n",
       "      <td>Last session of the day  http://twitpic.com/67ezh</td>\n",
       "      <td>neutral</td>\n",
       "    </tr>\n",
       "    <tr>\n",
       "      <th>1</th>\n",
       "      <td>Shanghai is also really exciting (precisely -...</td>\n",
       "      <td>positive</td>\n",
       "    </tr>\n",
       "    <tr>\n",
       "      <th>2</th>\n",
       "      <td>Recession hit Veronique Branquinho, she has to...</td>\n",
       "      <td>negative</td>\n",
       "    </tr>\n",
       "    <tr>\n",
       "      <th>3</th>\n",
       "      <td>happy bday!</td>\n",
       "      <td>positive</td>\n",
       "    </tr>\n",
       "    <tr>\n",
       "      <th>4</th>\n",
       "      <td>http://twitpic.com/4w75p - I like it!!</td>\n",
       "      <td>positive</td>\n",
       "    </tr>\n",
       "  </tbody>\n",
       "</table>\n",
       "</div>"
      ],
      "text/plain": [
       "                                                text sentiment\n",
       "0  Last session of the day  http://twitpic.com/67ezh   neutral\n",
       "1   Shanghai is also really exciting (precisely -...  positive\n",
       "2  Recession hit Veronique Branquinho, she has to...  negative\n",
       "3                                        happy bday!  positive\n",
       "4             http://twitpic.com/4w75p - I like it!!  positive"
      ]
     },
     "execution_count": 19,
     "metadata": {},
     "output_type": "execute_result"
    }
   ],
   "source": [
    "test_data=data=pd.read_csv(\"C:\\\\Users\\\\Omar Derb\\\\ipynb\\sentiment\\\\test.csv\")\n",
    "test_data=test_data[['text','sentiment']]\n",
    "test_data.head()"
   ]
  },
  {
   "cell_type": "code",
   "execution_count": 20,
   "id": "fa47ce75-487e-4171-9a65-fdd5ed7d96de",
   "metadata": {},
   "outputs": [],
   "source": [
    "message2 = vectorizer.transform(test_data['text'])  # vector = xtest      test_data.sentiment=ytest"
   ]
  },
  {
   "cell_type": "code",
   "execution_count": 21,
   "id": "7dacfade-6ed3-4105-ab1a-ceca3fc79945",
   "metadata": {},
   "outputs": [
    {
     "name": "stdout",
     "output_type": "stream",
     "text": [
      "c in the model: 0.2\n",
      "0.1\n",
      "The model Accuracy: 70.98%\n",
      " score of test data 0.7009054895302773\n",
      "1.0\n",
      "The model Accuracy: 70.98%\n",
      " score of test data 0.7009054895302773\n",
      "10.0\n",
      "The model Accuracy: 70.98%\n",
      " score of test data 0.7009054895302773\n",
      "100.0\n",
      "The model Accuracy: 70.98%\n",
      " score of test data 0.7009054895302773\n",
      "1000.0\n",
      "The model Accuracy: 70.98%\n",
      " score of test data 0.7009054895302773\n",
      "c in the model: 0.4\n",
      "0.1\n",
      "The model Accuracy: 71.14%\n",
      " score of test data 0.7026032823995473\n",
      "1.0\n",
      "The model Accuracy: 71.14%\n",
      " score of test data 0.7026032823995473\n",
      "10.0\n",
      "The model Accuracy: 71.14%\n",
      " score of test data 0.7026032823995473\n",
      "100.0\n",
      "The model Accuracy: 71.14%\n",
      " score of test data 0.7026032823995473\n",
      "1000.0\n",
      "The model Accuracy: 71.14%\n",
      " score of test data 0.7026032823995473\n",
      "c in the model: 0.6000000000000001\n",
      "0.1\n",
      "The model Accuracy: 70.94%\n",
      " score of test data 0.6924165251839276\n",
      "1.0\n",
      "The model Accuracy: 70.94%\n",
      " score of test data 0.6924165251839276\n",
      "10.0\n",
      "The model Accuracy: 70.94%\n",
      " score of test data 0.6924165251839276\n",
      "100.0\n",
      "The model Accuracy: 70.94%\n",
      " score of test data 0.6924165251839276\n",
      "1000.0\n",
      "The model Accuracy: 70.94%\n",
      " score of test data 0.6924165251839276\n",
      "c in the model: 0.8\n",
      "0.1\n",
      "The model Accuracy: 70.29%\n",
      " score of test data 0.6901528013582343\n",
      "1.0\n",
      "The model Accuracy: 70.29%\n",
      " score of test data 0.6901528013582343\n",
      "10.0\n",
      "The model Accuracy: 70.29%\n",
      " score of test data 0.6901528013582343\n",
      "100.0\n",
      "The model Accuracy: 70.29%\n",
      " score of test data 0.6901528013582343\n",
      "1000.0\n",
      "The model Accuracy: 70.29%\n",
      " score of test data 0.6901528013582343\n",
      "c in the model: 1.0\n",
      "0.1\n",
      "The model Accuracy: 69.83%\n",
      " score of test data 0.6827956989247311\n",
      "1.0\n",
      "The model Accuracy: 69.83%\n",
      " score of test data 0.6827956989247311\n",
      "10.0\n",
      "The model Accuracy: 69.83%\n",
      " score of test data 0.6827956989247311\n",
      "100.0\n",
      "The model Accuracy: 69.83%\n",
      " score of test data 0.6827956989247311\n",
      "1000.0\n",
      "The model Accuracy: 69.83%\n",
      " score of test data 0.6827956989247311\n"
     ]
    }
   ],
   "source": [
    "\n",
    "\n",
    "    # Initialize the variable\n",
    "    c = 0.0\n",
    "\n",
    "    # Set the number of iterations\n",
    "    num_iterations = 5  # You can change this to any desired number\n",
    "\n",
    "    # Loop to increase the variable by 0.1 in each iteration\n",
    "    for _ in range(num_iterations):\n",
    "        c += 0.2\n",
    "        \n",
    "        g = 0.1\n",
    "        \n",
    "        print(f'c in the model: {c}')\n",
    "        for i in range(5):\n",
    "            \n",
    "            print(g)\n",
    "            svc_model =SVC(C= c, kernel='linear', gamma= g).fit(xtrain, ytrain)\n",
    "            print(f\"The model Accuracy: {svc_model.score(xtest, ytest) * 100 :.2f}%\\n\",\"score of test data\",svc_model.score(message2,test_data.sentiment))\n",
    "            \n",
    "            g = g *10"
   ]
  },
  {
   "cell_type": "markdown",
   "id": "a0dc7ba4",
   "metadata": {},
   "source": [
    "# gamma  dosent affect acc     as it only works with  rpf kernal "
   ]
  },
  {
   "cell_type": "markdown",
   "id": "2b0a8b16",
   "metadata": {},
   "source": [
    " "
   ]
  },
  {
   "cell_type": "markdown",
   "id": "02d7e580",
   "metadata": {},
   "source": [
    " "
   ]
  },
  {
   "cell_type": "markdown",
   "id": "9326dd72",
   "metadata": {},
   "source": [
    " "
   ]
  },
  {
   "cell_type": "code",
   "execution_count": 22,
   "id": "15fee235",
   "metadata": {},
   "outputs": [],
   "source": [
    "test_data=data=pd.read_csv(\"C:\\\\Users\\\\Omar Derb\\\\ipynb\\sentiment\\\\test.csv\")"
   ]
  },
  {
   "cell_type": "code",
   "execution_count": 23,
   "id": "1b44690f",
   "metadata": {},
   "outputs": [
    {
     "data": {
      "text/html": [
       "<div>\n",
       "<style scoped>\n",
       "    .dataframe tbody tr th:only-of-type {\n",
       "        vertical-align: middle;\n",
       "    }\n",
       "\n",
       "    .dataframe tbody tr th {\n",
       "        vertical-align: top;\n",
       "    }\n",
       "\n",
       "    .dataframe thead th {\n",
       "        text-align: right;\n",
       "    }\n",
       "</style>\n",
       "<table border=\"1\" class=\"dataframe\">\n",
       "  <thead>\n",
       "    <tr style=\"text-align: right;\">\n",
       "      <th></th>\n",
       "      <th>text</th>\n",
       "      <th>sentiment</th>\n",
       "    </tr>\n",
       "  </thead>\n",
       "  <tbody>\n",
       "    <tr>\n",
       "      <th>0</th>\n",
       "      <td>Last session of the day  http://twitpic.com/67ezh</td>\n",
       "      <td>neutral</td>\n",
       "    </tr>\n",
       "    <tr>\n",
       "      <th>1</th>\n",
       "      <td>Shanghai is also really exciting (precisely -...</td>\n",
       "      <td>positive</td>\n",
       "    </tr>\n",
       "    <tr>\n",
       "      <th>2</th>\n",
       "      <td>Recession hit Veronique Branquinho, she has to...</td>\n",
       "      <td>negative</td>\n",
       "    </tr>\n",
       "    <tr>\n",
       "      <th>3</th>\n",
       "      <td>happy bday!</td>\n",
       "      <td>positive</td>\n",
       "    </tr>\n",
       "    <tr>\n",
       "      <th>4</th>\n",
       "      <td>http://twitpic.com/4w75p - I like it!!</td>\n",
       "      <td>positive</td>\n",
       "    </tr>\n",
       "  </tbody>\n",
       "</table>\n",
       "</div>"
      ],
      "text/plain": [
       "                                                text sentiment\n",
       "0  Last session of the day  http://twitpic.com/67ezh   neutral\n",
       "1   Shanghai is also really exciting (precisely -...  positive\n",
       "2  Recession hit Veronique Branquinho, she has to...  negative\n",
       "3                                        happy bday!  positive\n",
       "4             http://twitpic.com/4w75p - I like it!!  positive"
      ]
     },
     "execution_count": 23,
     "metadata": {},
     "output_type": "execute_result"
    }
   ],
   "source": [
    "test_data=test_data[['text','sentiment']]\n",
    "test_data.head()"
   ]
  },
  {
   "cell_type": "markdown",
   "id": "e2c7cd88",
   "metadata": {},
   "source": [
    " "
   ]
  },
  {
   "cell_type": "code",
   "execution_count": 24,
   "id": "f9eb48b1-1b5b-41f4-bf82-df9d14ddb40c",
   "metadata": {},
   "outputs": [
    {
     "name": "stdout",
     "output_type": "stream",
     "text": [
      "              precision    recall  f1-score   support\n",
      "\n",
      "    negative       0.67      0.64      0.66      1001\n",
      "     neutral       0.64      0.70      0.66      1430\n",
      "    positive       0.77      0.70      0.73      1103\n",
      "\n",
      "    accuracy                           0.68      3534\n",
      "   macro avg       0.69      0.68      0.68      3534\n",
      "weighted avg       0.69      0.68      0.68      3534\n",
      "\n",
      "\n",
      "Accuracy: \n",
      " 0.6827956989247311\n"
     ]
    }
   ],
   "source": [
    "pred = svc_model.predict(message2)\n",
    "print(classification_report(test_data.sentiment, pred))\n",
    "print()\n",
    "\n",
    "print(\"Accuracy: \\n\", accuracy_score(test_data.sentiment, pred))"
   ]
  },
  {
   "cell_type": "markdown",
   "id": "5813c6dc-5c00-4e41-ba1b-497ab26beb19",
   "metadata": {},
   "source": []
  },
  {
   "cell_type": "markdown",
   "id": "80f97bbd-4a87-4479-aef5-47631107d42f",
   "metadata": {},
   "source": []
  },
  {
   "cell_type": "markdown",
   "id": "b5cec381-c17b-4f38-a364-05763d5fa4a8",
   "metadata": {},
   "source": []
  },
  {
   "cell_type": "markdown",
   "id": "70c3c2bb-33bf-489f-a1ec-65b1f8dc54c9",
   "metadata": {},
   "source": []
  },
  {
   "cell_type": "markdown",
   "id": "8348a378-9404-4bdb-b448-23c438c26573",
   "metadata": {},
   "source": [
    "# radial base model "
   ]
  },
  {
   "cell_type": "code",
   "execution_count": 25,
   "id": "68f8c932-75ae-4e1d-b7fb-806c4102b526",
   "metadata": {},
   "outputs": [
    {
     "data": {
      "text/html": [
       "<style>#sk-container-id-2 {color: black;background-color: white;}#sk-container-id-2 pre{padding: 0;}#sk-container-id-2 div.sk-toggleable {background-color: white;}#sk-container-id-2 label.sk-toggleable__label {cursor: pointer;display: block;width: 100%;margin-bottom: 0;padding: 0.3em;box-sizing: border-box;text-align: center;}#sk-container-id-2 label.sk-toggleable__label-arrow:before {content: \"▸\";float: left;margin-right: 0.25em;color: #696969;}#sk-container-id-2 label.sk-toggleable__label-arrow:hover:before {color: black;}#sk-container-id-2 div.sk-estimator:hover label.sk-toggleable__label-arrow:before {color: black;}#sk-container-id-2 div.sk-toggleable__content {max-height: 0;max-width: 0;overflow: hidden;text-align: left;background-color: #f0f8ff;}#sk-container-id-2 div.sk-toggleable__content pre {margin: 0.2em;color: black;border-radius: 0.25em;background-color: #f0f8ff;}#sk-container-id-2 input.sk-toggleable__control:checked~div.sk-toggleable__content {max-height: 200px;max-width: 100%;overflow: auto;}#sk-container-id-2 input.sk-toggleable__control:checked~label.sk-toggleable__label-arrow:before {content: \"▾\";}#sk-container-id-2 div.sk-estimator input.sk-toggleable__control:checked~label.sk-toggleable__label {background-color: #d4ebff;}#sk-container-id-2 div.sk-label input.sk-toggleable__control:checked~label.sk-toggleable__label {background-color: #d4ebff;}#sk-container-id-2 input.sk-hidden--visually {border: 0;clip: rect(1px 1px 1px 1px);clip: rect(1px, 1px, 1px, 1px);height: 1px;margin: -1px;overflow: hidden;padding: 0;position: absolute;width: 1px;}#sk-container-id-2 div.sk-estimator {font-family: monospace;background-color: #f0f8ff;border: 1px dotted black;border-radius: 0.25em;box-sizing: border-box;margin-bottom: 0.5em;}#sk-container-id-2 div.sk-estimator:hover {background-color: #d4ebff;}#sk-container-id-2 div.sk-parallel-item::after {content: \"\";width: 100%;border-bottom: 1px solid gray;flex-grow: 1;}#sk-container-id-2 div.sk-label:hover label.sk-toggleable__label {background-color: #d4ebff;}#sk-container-id-2 div.sk-serial::before {content: \"\";position: absolute;border-left: 1px solid gray;box-sizing: border-box;top: 0;bottom: 0;left: 50%;z-index: 0;}#sk-container-id-2 div.sk-serial {display: flex;flex-direction: column;align-items: center;background-color: white;padding-right: 0.2em;padding-left: 0.2em;position: relative;}#sk-container-id-2 div.sk-item {position: relative;z-index: 1;}#sk-container-id-2 div.sk-parallel {display: flex;align-items: stretch;justify-content: center;background-color: white;position: relative;}#sk-container-id-2 div.sk-item::before, #sk-container-id-2 div.sk-parallel-item::before {content: \"\";position: absolute;border-left: 1px solid gray;box-sizing: border-box;top: 0;bottom: 0;left: 50%;z-index: -1;}#sk-container-id-2 div.sk-parallel-item {display: flex;flex-direction: column;z-index: 1;position: relative;background-color: white;}#sk-container-id-2 div.sk-parallel-item:first-child::after {align-self: flex-end;width: 50%;}#sk-container-id-2 div.sk-parallel-item:last-child::after {align-self: flex-start;width: 50%;}#sk-container-id-2 div.sk-parallel-item:only-child::after {width: 0;}#sk-container-id-2 div.sk-dashed-wrapped {border: 1px dashed gray;margin: 0 0.4em 0.5em 0.4em;box-sizing: border-box;padding-bottom: 0.4em;background-color: white;}#sk-container-id-2 div.sk-label label {font-family: monospace;font-weight: bold;display: inline-block;line-height: 1.2em;}#sk-container-id-2 div.sk-label-container {text-align: center;}#sk-container-id-2 div.sk-container {/* jupyter's `normalize.less` sets `[hidden] { display: none; }` but bootstrap.min.css set `[hidden] { display: none !important; }` so we also need the `!important` here to be able to override the default hidden behavior on the sphinx rendered scikit-learn.org. See: https://github.com/scikit-learn/scikit-learn/issues/21755 */display: inline-block !important;position: relative;}#sk-container-id-2 div.sk-text-repr-fallback {display: none;}</style><div id=\"sk-container-id-2\" class=\"sk-top-container\"><div class=\"sk-text-repr-fallback\"><pre>SVC(C=0.1, gamma=1)</pre><b>In a Jupyter environment, please rerun this cell to show the HTML representation or trust the notebook. <br />On GitHub, the HTML representation is unable to render, please try loading this page with nbviewer.org.</b></div><div class=\"sk-container\" hidden><div class=\"sk-item\"><div class=\"sk-estimator sk-toggleable\"><input class=\"sk-toggleable__control sk-hidden--visually\" id=\"sk-estimator-id-2\" type=\"checkbox\" checked><label for=\"sk-estimator-id-2\" class=\"sk-toggleable__label sk-toggleable__label-arrow\">SVC</label><div class=\"sk-toggleable__content\"><pre>SVC(C=0.1, gamma=1)</pre></div></div></div></div></div>"
      ],
      "text/plain": [
       "SVC(C=0.1, gamma=1)"
      ]
     },
     "execution_count": 25,
     "metadata": {},
     "output_type": "execute_result"
    }
   ],
   "source": [
    "rbf_svc_model = SVC(C= .1, kernel='rbf', gamma= 1)\n",
    "rbf_svc_model.fit(xtrain, ytrain)"
   ]
  },
  {
   "cell_type": "code",
   "execution_count": 26,
   "id": "229b6241-5836-41f9-b8c2-07a28ff31a4e",
   "metadata": {},
   "outputs": [
    {
     "name": "stdout",
     "output_type": "stream",
     "text": [
      "              precision    recall  f1-score   support\n",
      "\n",
      "    negative       0.96      0.00      0.01      6189\n",
      "     neutral       0.41      1.00      0.58      8868\n",
      "    positive       0.98      0.02      0.05      6927\n",
      "\n",
      "    accuracy                           0.41     21984\n",
      "   macro avg       0.78      0.34      0.21     21984\n",
      "weighted avg       0.74      0.41      0.25     21984\n",
      "\n",
      "\n",
      "Accuracy: \n",
      " 0.4122088791848617\n"
     ]
    }
   ],
   "source": [
    "# Evaluating the model on the training data set\n",
    "from sklearn.metrics import classification_report, confusion_matrix, accuracy_score\n",
    "pred = rbf_svc_model.predict(xtrain)\n",
    "print(classification_report(ytrain, pred))\n",
    "print()\n",
    "\n",
    "print(\"Accuracy: \\n\", accuracy_score(ytrain, pred))"
   ]
  },
  {
   "cell_type": "code",
   "execution_count": 27,
   "id": "a021e180-6ef9-40e1-a6cb-210d88fc91cb",
   "metadata": {},
   "outputs": [
    {
     "data": {
      "text/html": [
       "<style>#sk-container-id-3 {color: black;background-color: white;}#sk-container-id-3 pre{padding: 0;}#sk-container-id-3 div.sk-toggleable {background-color: white;}#sk-container-id-3 label.sk-toggleable__label {cursor: pointer;display: block;width: 100%;margin-bottom: 0;padding: 0.3em;box-sizing: border-box;text-align: center;}#sk-container-id-3 label.sk-toggleable__label-arrow:before {content: \"▸\";float: left;margin-right: 0.25em;color: #696969;}#sk-container-id-3 label.sk-toggleable__label-arrow:hover:before {color: black;}#sk-container-id-3 div.sk-estimator:hover label.sk-toggleable__label-arrow:before {color: black;}#sk-container-id-3 div.sk-toggleable__content {max-height: 0;max-width: 0;overflow: hidden;text-align: left;background-color: #f0f8ff;}#sk-container-id-3 div.sk-toggleable__content pre {margin: 0.2em;color: black;border-radius: 0.25em;background-color: #f0f8ff;}#sk-container-id-3 input.sk-toggleable__control:checked~div.sk-toggleable__content {max-height: 200px;max-width: 100%;overflow: auto;}#sk-container-id-3 input.sk-toggleable__control:checked~label.sk-toggleable__label-arrow:before {content: \"▾\";}#sk-container-id-3 div.sk-estimator input.sk-toggleable__control:checked~label.sk-toggleable__label {background-color: #d4ebff;}#sk-container-id-3 div.sk-label input.sk-toggleable__control:checked~label.sk-toggleable__label {background-color: #d4ebff;}#sk-container-id-3 input.sk-hidden--visually {border: 0;clip: rect(1px 1px 1px 1px);clip: rect(1px, 1px, 1px, 1px);height: 1px;margin: -1px;overflow: hidden;padding: 0;position: absolute;width: 1px;}#sk-container-id-3 div.sk-estimator {font-family: monospace;background-color: #f0f8ff;border: 1px dotted black;border-radius: 0.25em;box-sizing: border-box;margin-bottom: 0.5em;}#sk-container-id-3 div.sk-estimator:hover {background-color: #d4ebff;}#sk-container-id-3 div.sk-parallel-item::after {content: \"\";width: 100%;border-bottom: 1px solid gray;flex-grow: 1;}#sk-container-id-3 div.sk-label:hover label.sk-toggleable__label {background-color: #d4ebff;}#sk-container-id-3 div.sk-serial::before {content: \"\";position: absolute;border-left: 1px solid gray;box-sizing: border-box;top: 0;bottom: 0;left: 50%;z-index: 0;}#sk-container-id-3 div.sk-serial {display: flex;flex-direction: column;align-items: center;background-color: white;padding-right: 0.2em;padding-left: 0.2em;position: relative;}#sk-container-id-3 div.sk-item {position: relative;z-index: 1;}#sk-container-id-3 div.sk-parallel {display: flex;align-items: stretch;justify-content: center;background-color: white;position: relative;}#sk-container-id-3 div.sk-item::before, #sk-container-id-3 div.sk-parallel-item::before {content: \"\";position: absolute;border-left: 1px solid gray;box-sizing: border-box;top: 0;bottom: 0;left: 50%;z-index: -1;}#sk-container-id-3 div.sk-parallel-item {display: flex;flex-direction: column;z-index: 1;position: relative;background-color: white;}#sk-container-id-3 div.sk-parallel-item:first-child::after {align-self: flex-end;width: 50%;}#sk-container-id-3 div.sk-parallel-item:last-child::after {align-self: flex-start;width: 50%;}#sk-container-id-3 div.sk-parallel-item:only-child::after {width: 0;}#sk-container-id-3 div.sk-dashed-wrapped {border: 1px dashed gray;margin: 0 0.4em 0.5em 0.4em;box-sizing: border-box;padding-bottom: 0.4em;background-color: white;}#sk-container-id-3 div.sk-label label {font-family: monospace;font-weight: bold;display: inline-block;line-height: 1.2em;}#sk-container-id-3 div.sk-label-container {text-align: center;}#sk-container-id-3 div.sk-container {/* jupyter's `normalize.less` sets `[hidden] { display: none; }` but bootstrap.min.css set `[hidden] { display: none !important; }` so we also need the `!important` here to be able to override the default hidden behavior on the sphinx rendered scikit-learn.org. See: https://github.com/scikit-learn/scikit-learn/issues/21755 */display: inline-block !important;position: relative;}#sk-container-id-3 div.sk-text-repr-fallback {display: none;}</style><div id=\"sk-container-id-3\" class=\"sk-top-container\"><div class=\"sk-text-repr-fallback\"><pre>SVC(C=0.1, gamma=1000)</pre><b>In a Jupyter environment, please rerun this cell to show the HTML representation or trust the notebook. <br />On GitHub, the HTML representation is unable to render, please try loading this page with nbviewer.org.</b></div><div class=\"sk-container\" hidden><div class=\"sk-item\"><div class=\"sk-estimator sk-toggleable\"><input class=\"sk-toggleable__control sk-hidden--visually\" id=\"sk-estimator-id-3\" type=\"checkbox\" checked><label for=\"sk-estimator-id-3\" class=\"sk-toggleable__label sk-toggleable__label-arrow\">SVC</label><div class=\"sk-toggleable__content\"><pre>SVC(C=0.1, gamma=1000)</pre></div></div></div></div></div>"
      ],
      "text/plain": [
       "SVC(C=0.1, gamma=1000)"
      ]
     },
     "execution_count": 27,
     "metadata": {},
     "output_type": "execute_result"
    }
   ],
   "source": [
    "rbf_svc_model2 = SVC(C= .1, kernel='rbf', gamma= 1000)\n",
    "rbf_svc_model2.fit(xtrain, ytrain)"
   ]
  },
  {
   "cell_type": "code",
   "execution_count": 28,
   "id": "28809ba3-01a4-4d7f-9411-5a48e3681f4e",
   "metadata": {},
   "outputs": [
    {
     "name": "stdout",
     "output_type": "stream",
     "text": [
      "              precision    recall  f1-score   support\n",
      "\n",
      "    negative       1.00      0.00      0.00      6189\n",
      "     neutral       0.40      1.00      0.58      8868\n",
      "    positive       0.98      0.01      0.01      6927\n",
      "\n",
      "    accuracy                           0.41     21984\n",
      "   macro avg       0.80      0.34      0.20     21984\n",
      "weighted avg       0.75      0.41      0.24     21984\n",
      "\n",
      "\n",
      "Accuracy: \n",
      " 0.40629548762736534\n"
     ]
    }
   ],
   "source": [
    "# Evaluating the model on the training data set\n",
    "from sklearn.metrics import classification_report, confusion_matrix, accuracy_score\n",
    "pred = rbf_svc_model2.predict(xtrain)\n",
    "print(classification_report(ytrain, pred))\n",
    "print()\n",
    "\n",
    "print(\"Accuracy: \\n\", accuracy_score(ytrain, pred))"
   ]
  },
  {
   "cell_type": "code",
   "execution_count": 29,
   "id": "d9dd83b8-5f74-40e4-9252-767ab559edea",
   "metadata": {},
   "outputs": [
    {
     "name": "stdout",
     "output_type": "stream",
     "text": [
      "              precision    recall  f1-score   support\n",
      "\n",
      "    negative       1.00      0.00      0.01      1592\n",
      "     neutral       0.41      1.00      0.58      2249\n",
      "    positive       1.00      0.03      0.05      1655\n",
      "\n",
      "    accuracy                           0.42      5496\n",
      "   macro avg       0.80      0.34      0.21      5496\n",
      "weighted avg       0.76      0.42      0.26      5496\n",
      "\n",
      "\n",
      "Accuracy: \n",
      " 0.4181222707423581\n"
     ]
    }
   ],
   "source": [
    "# Evaluating the model on the testing data set\n",
    "from sklearn.metrics import classification_report, confusion_matrix, accuracy_score\n",
    "pred = rbf_svc_model.predict(xtest)\n",
    "print(classification_report(ytest, pred))\n",
    "print()\n",
    "\n",
    "print(\"Accuracy: \\n\", accuracy_score(ytest, pred))"
   ]
  },
  {
   "cell_type": "markdown",
   "id": "4be616a3-d156-468c-a367-aa6fa00eed8c",
   "metadata": {},
   "source": [
    "# it score is really  low  so it not suitable "
   ]
  }
 ],
 "metadata": {
  "kernelspec": {
   "display_name": "Python 3 (ipykernel)",
   "language": "python",
   "name": "python3"
  },
  "language_info": {
   "codemirror_mode": {
    "name": "ipython",
    "version": 3
   },
   "file_extension": ".py",
   "mimetype": "text/x-python",
   "name": "python",
   "nbconvert_exporter": "python",
   "pygments_lexer": "ipython3",
   "version": "3.11.5"
  }
 },
 "nbformat": 4,
 "nbformat_minor": 5
}
